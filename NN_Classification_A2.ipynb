{
  "cells": [
    {
      "cell_type": "markdown",
      "metadata": {
        "id": "view-in-github",
        "colab_type": "text"
      },
      "source": [
        "<a href=\"https://colab.research.google.com/github/isabella-as/Intelligent-Systems-Assignments/blob/main/NN_Classification_A2.ipynb\" target=\"_parent\"><img src=\"https://colab.research.google.com/assets/colab-badge.svg\" alt=\"Open In Colab\"/></a>"
      ]
    },
    {
      "cell_type": "markdown",
      "source": [
        "#**CLASSIFICATION PROBLEM**\n",
        "**Neural Network Approach (Task 3)**"
      ],
      "metadata": {
        "id": "NJczpUxd01ZL"
      },
      "id": "NJczpUxd01ZL"
    },
    {
      "cell_type": "code",
      "execution_count": null,
      "id": "c6428f9d",
      "metadata": {
        "id": "c6428f9d"
      },
      "outputs": [],
      "source": [
        "import numpy as np\n",
        "from sklearn import datasets\n",
        "from sklearn.preprocessing import StandardScaler\n",
        "from sklearn.model_selection import train_test_split\n",
        "from sklearn.metrics import mean_squared_error,accuracy_score,classification_report\n",
        "import matplotlib.pyplot as plt\n",
        "import torch.nn.functional as F\n",
        "import torch\n",
        "import torch.nn as nn\n",
        "import torch.optim as optim\n",
        "from torch.utils.data import TensorDataset, DataLoader\n",
        "import pandas"
      ]
    },
    {
      "cell_type": "markdown",
      "source": [
        "The code below loads the dataset, separates the features \"x\" from the target \"y\". The target column is mapped from the original labels (“tested_negative” and “tested_positive”) to binary values 0 and 1 for classification. The\n",
        "feature matrix \"X\" is converted to floats, and calling \"X.shape\" confirms its dimensions (8 features and 768 samples)."
      ],
      "metadata": {
        "id": "kh2fTwZB9o6_"
      },
      "id": "kh2fTwZB9o6_"
    },
    {
      "cell_type": "code",
      "execution_count": null,
      "id": "0a386c10",
      "metadata": {
        "id": "0a386c10"
      },
      "outputs": [],
      "source": [
        "# Classification dataset\n",
        "\n",
        "from sklearn.datasets import fetch_openml\n",
        "diabetes = fetch_openml(\"diabetes\", version=1, as_frame=True)\n",
        "\n",
        "X = diabetes.data.values.astype(float)\n",
        "y = diabetes.target.map({'tested_negative': 0, 'tested_positive': 1}).astype(int).values\n",
        "\n",
        "X.shape\n",
        "\n"
      ]
    },
    {
      "cell_type": "markdown",
      "source": [
        "In this step, the dataset is split into training and testing sets using an 80/20 ratio, where 80% of the data (Xtr, ytr) is used to train the model and 20% (Xte, yte) is reserved for testing. The parameter random_state=42 ensures that the split is reproducible, so the same division of data will be obtained each time the code is ran."
      ],
      "metadata": {
        "id": "FB9AMpkwMnDZ"
      },
      "id": "FB9AMpkwMnDZ"
    },
    {
      "cell_type": "code",
      "execution_count": null,
      "id": "aafa6216",
      "metadata": {
        "id": "aafa6216"
      },
      "outputs": [],
      "source": [
        "#train test spliting\n",
        "test_size=0.2\n",
        "Xtr, Xte, ytr, yte = train_test_split(X, y, test_size=test_size, random_state=42)"
      ]
    },
    {
      "cell_type": "markdown",
      "source": [
        "The input features are standardized using StandardScaler. They are rescaled so that each feature has a mean of 0 and a standard deviation of 1. This prevents features with larger numeric ranges from dominating the learning process. The scaler is fit on the training set and then applied to both the training and testing sets to avoid data leakage."
      ],
      "metadata": {
        "id": "5B44HV8CNNK1"
      },
      "id": "5B44HV8CNNK1"
    },
    {
      "cell_type": "code",
      "execution_count": null,
      "id": "2dfc9566",
      "metadata": {
        "id": "2dfc9566"
      },
      "outputs": [],
      "source": [
        "# Standardize features\n",
        "scaler=StandardScaler()\n",
        "Xtr= scaler.fit_transform(Xtr)\n",
        "Xte= scaler.transform(Xte)"
      ]
    },
    {
      "cell_type": "markdown",
      "source": [
        "This code defines a multilayer perceptron (MLP) model for regression using PyTorch. The network takes the input features and passes them through four fully connected hidden layers, each with 64 neurons and ReLU activation functions for non-linearity. To reduce overfitting, dropout is applied after each hidden layer, randomly setting 50% of the neurons to zero during training. Finally, the output layer (self.out) produces a single value (output_size=1), which corresponds to the continuous regression target. The forward method specifies the sequence of operations that the data follows as it moves through the network."
      ],
      "metadata": {
        "id": "bLpHpJVZPQL2"
      },
      "id": "bLpHpJVZPQL2"
    },
    {
      "cell_type": "code",
      "execution_count": null,
      "id": "99c0966d",
      "metadata": {
        "id": "99c0966d"
      },
      "outputs": [],
      "source": [
        "class MLP(nn.Module):\n",
        "    def __init__(self, input_size, output_size=1, dropout_prob=0.5):\n",
        "        super(MLP, self).__init__()\n",
        "\n",
        "        self.fc1 = nn.Linear(input_size, 64)\n",
        "        self.fc2 = nn.Linear(64, 64)\n",
        "        self.fc3 = nn.Linear(64, 64)\n",
        "        self.fc4 = nn.Linear(64, 64)\n",
        "        self.out = nn.Linear(64, output_size)\n",
        "\n",
        "        self.dropout = nn.Dropout(p=dropout_prob)\n",
        "\n",
        "    def forward(self, x):\n",
        "        x = F.relu(self.fc1(x))\n",
        "        x = self.dropout(x)\n",
        "\n",
        "        x = F.relu(self.fc2(x))\n",
        "        x = self.dropout(x)\n",
        "\n",
        "        x = F.relu(self.fc3(x))\n",
        "        x = self.dropout(x)\n",
        "\n",
        "        x = F.relu(self.fc4(x))\n",
        "        x = self.dropout(x)\n",
        "\n",
        "        x = self.out(x)\n",
        "        return x"
      ]
    },
    {
      "cell_type": "markdown",
      "source": [
        "In the following code the main training hyperparameters are defined. The model is trained for 100 epochs- the entire training set will be passed through the network 100 times. The learning rate is set to 0.0005 (controls the step size during optimization). A dropout rate of 0.1 implies that 10% of the neurons are randomly deactivated during training to reduce overfitting. Finally, the batch size is set to 64, so the model processes 64 samples at a time before updating the weights. These parameters affect how fast the network learns and how well it generalizes."
      ],
      "metadata": {
        "id": "BtlFV8eHRJix"
      },
      "id": "BtlFV8eHRJix"
    },
    {
      "cell_type": "code",
      "execution_count": null,
      "id": "2ab972de",
      "metadata": {
        "id": "2ab972de"
      },
      "outputs": [],
      "source": [
        "num_epochs=500\n",
        "lr=0.0005\n",
        "dropout=0.1\n",
        "batch_size=64"
      ]
    },
    {
      "cell_type": "markdown",
      "source": [
        "At this stage, the training and testing sets are converted from NumPy arrays into PyTorch tensors so they can be processed by the neural network (type float 32). The training inputs (Xtr) and outputs (ytr) are combined into a TensorDataset, which stores them as pairs. This dataset is then wrapped in a DataLoader, which automatically handles splitting the data into mini-batches (here of size 64, as previously defined) and shuffles the order of the samples at each epoch, helping the model generalize better by preventing it from seeing the data in the same order every time."
      ],
      "metadata": {
        "id": "Lf3cbujZR035"
      },
      "id": "Lf3cbujZR035"
    },
    {
      "cell_type": "code",
      "execution_count": null,
      "id": "49298ada",
      "metadata": {
        "id": "49298ada"
      },
      "outputs": [],
      "source": [
        "Xtr = torch.tensor(Xtr, dtype=torch.float32)\n",
        "ytr = torch.tensor(ytr, dtype=torch.float32)\n",
        "Xte = torch.tensor(Xte, dtype=torch.float32)\n",
        "yte = torch.tensor(yte, dtype=torch.float32)\n",
        "\n",
        "# Wrap Xtr and ytr into a dataset\n",
        "train_dataset = TensorDataset(Xtr, ytr)\n",
        "\n",
        "# Create DataLoader\n",
        "train_dataloader = DataLoader(train_dataset, batch_size=batch_size, shuffle=True)"
      ]
    },
    {
      "cell_type": "markdown",
      "source": [
        "Here we set up the model, loss function, and optimizer. The code first checks whether a GPU is available and assigns the device accordingly. The MLP model is then created with an input size matching the number of features and the specified dropout probability, and it is moved to the chosen device. For a classification task a BCEWithLogitsLoss() loss funtion is used. Finally, the Adam optimizer is defined with the chosen learning rate (lr), which controls de rate in which the model’s parameters are updated during training."
      ],
      "metadata": {
        "id": "4Yl0FqhMTsrE"
      },
      "id": "4Yl0FqhMTsrE"
    },
    {
      "cell_type": "code",
      "execution_count": null,
      "id": "8e649c6f",
      "metadata": {
        "id": "8e649c6f"
      },
      "outputs": [],
      "source": [
        "# Model, Loss, Optimizer\n",
        "device = torch.device(\"cuda\" if torch.cuda.is_available() else \"cpu\")\n",
        "\n",
        "model = MLP(input_size=Xtr.shape[1], dropout_prob=dropout).to(device)\n",
        "criterion = nn.BCEWithLogitsLoss()\n",
        "optimizer = optim.Adam(model.parameters(), lr=lr)"
      ]
    },
    {
      "cell_type": "markdown",
      "source": [
        "This block implements the training loop for the neural network. For each epoch, the model is set to training mode and the data is processed in small batches from the DataLoader. Each batch of features and labels is moved to the selected device (CPU or GPU), goes through the model to produce predictions (logits), and compared to the true targets using the chosen loss function (for regression- MSELoss). Before backpropagation, the optimizer’s gradients are reset with zero_grad(). The backward() call computes gradients of the loss with respect to the model parameters, and optimizer.step() updates those parameters. The average loss of each epoch (from each epoch's batches) is printed to monitor the training progress."
      ],
      "metadata": {
        "id": "MghwQg5TlORR"
      },
      "id": "MghwQg5TlORR"
    },
    {
      "cell_type": "code",
      "execution_count": null,
      "id": "e02dec66",
      "metadata": {
        "id": "e02dec66"
      },
      "outputs": [],
      "source": [
        "# Training loop\n",
        "for epoch in range(num_epochs):\n",
        "    model.train()\n",
        "    epoch_loss = 0.0\n",
        "\n",
        "    for batch_x, batch_y in train_dataloader:\n",
        "        batch_x = batch_x.to(device)\n",
        "        batch_y = batch_y.to(device)\n",
        "\n",
        "        logits = model(batch_x)\n",
        "        loss = criterion(logits, batch_y.view(-1, 1))\n",
        "\n",
        "        optimizer.zero_grad()\n",
        "        loss.backward()\n",
        "        optimizer.step()\n",
        "\n",
        "        epoch_loss += loss.item()\n",
        "\n",
        "    avg_loss = epoch_loss / len(train_dataloader)\n",
        "    print(f\"Epoch [{epoch+1}/{num_epochs}], Loss: {avg_loss:.4f}\")"
      ]
    },
    {
      "cell_type": "markdown",
      "source": [
        "To finalize, the model is used to make predictions on the test data (Xte), and these predictions (y_pred) are compared with the true target values (yte) to evaluate performance. For classification problems is used the metric of accuracy. It can be calculated where predictions greater than 0.5 are treated as class 1 and those below as class 0."
      ],
      "metadata": {
        "id": "mIyK-7Yxr7kL"
      },
      "id": "mIyK-7Yxr7kL"
    },
    {
      "cell_type": "code",
      "execution_count": null,
      "id": "dc271f10",
      "metadata": {
        "id": "dc271f10"
      },
      "outputs": [],
      "source": [
        "y_pred=model(Xte)\n",
        "print(f'ACC:{accuracy_score(yte.detach().numpy(),y_pred.detach().numpy()>0.5)}') #classification\n"
      ]
    }
  ],
  "metadata": {
    "kernelspec": {
      "display_name": "SI2526",
      "language": "python",
      "name": "python3"
    },
    "language_info": {
      "codemirror_mode": {
        "name": "ipython",
        "version": 3
      },
      "file_extension": ".py",
      "mimetype": "text/x-python",
      "name": "python",
      "nbconvert_exporter": "python",
      "pygments_lexer": "ipython3",
      "version": "3.12.11"
    },
    "colab": {
      "provenance": [],
      "include_colab_link": true
    }
  },
  "nbformat": 4,
  "nbformat_minor": 5
}